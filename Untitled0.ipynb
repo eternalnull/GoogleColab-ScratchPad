{
  "nbformat": 4,
  "nbformat_minor": 0,
  "metadata": {
    "colab": {
      "provenance": [],
      "authorship_tag": "ABX9TyPwOCKXpR5HQ549jnqoIyH7",
      "include_colab_link": true
    },
    "kernelspec": {
      "name": "python3",
      "display_name": "Python 3"
    },
    "language_info": {
      "name": "python"
    }
  },
  "cells": [
    {
      "cell_type": "markdown",
      "metadata": {
        "id": "view-in-github",
        "colab_type": "text"
      },
      "source": [
        "<a href=\"https://colab.research.google.com/github/eternalnull/GoogleColab-ScratchPad/blob/main/Untitled0.ipynb\" target=\"_parent\"><img src=\"https://colab.research.google.com/assets/colab-badge.svg\" alt=\"Open In Colab\"/></a>"
      ]
    },
    {
      "cell_type": "code",
      "execution_count": 2,
      "metadata": {
        "colab": {
          "base_uri": "https://localhost:8080/"
        },
        "id": "v4ZdLPb3yHda",
        "outputId": "bb459681-1ae2-4ee1-f8f9-c24df3ea1e61"
      },
      "outputs": [
        {
          "output_type": "stream",
          "name": "stdout",
          "text": [
            "U:\n",
            "[[ 0.53007889 -0.84559028  0.06319384]\n",
            " [ 0.17222964  0.03439459 -0.98445618]\n",
            " [ 0.83027304  0.53272329  0.16386756]]\n",
            "Sigma:\n",
            "[[5.94448457 0.         0.        ]\n",
            " [0.         2.38494289 0.        ]\n",
            " [0.         0.         0.98749714]]\n",
            "VT:\n",
            "[[ 0.11814456  0.9056719   0.4071858 ]\n",
            " [-0.34013212  0.42216125 -0.84029163]\n",
            " [-0.93292658 -0.03922108  0.35792416]]\n"
          ]
        }
      ],
      "source": [
        "import numpy as np\n",
        "\n",
        "# Create a matrix\n",
        "A = np.array([[1, 2, 3], [1, 1, 0], [0, 5, 1]])\n",
        "\n",
        "# Compute SVD\n",
        "U, sigma, VT = np.linalg.svd(A)\n",
        "\n",
        "print(\"U:\")\n",
        "print(U)\n",
        "print(\"Sigma:\")\n",
        "print(np.diag(sigma))  # Convert sigma to diagonal matrix\n",
        "print(\"VT:\")\n",
        "print(VT)"
      ]
    },
    {
      "cell_type": "code",
      "source": [
        "np.matmul(VT,VT.T)"
      ],
      "metadata": {
        "colab": {
          "base_uri": "https://localhost:8080/"
        },
        "id": "2SqXsGTXykf4",
        "outputId": "799a71f6-d68b-45a9-c215-a72dcdac9736"
      },
      "execution_count": 8,
      "outputs": [
        {
          "output_type": "execute_result",
          "data": {
            "text/plain": [
              "array([[ 1.00000000e+00, -1.36711425e-16, -1.58069377e-17],\n",
              "       [-1.36711425e-16,  1.00000000e+00, -1.66674166e-16],\n",
              "       [-1.58069377e-17, -1.66674166e-16,  1.00000000e+00]])"
            ]
          },
          "metadata": {},
          "execution_count": 8
        }
      ]
    },
    {
      "cell_type": "code",
      "source": [
        "A = np.array([[1, 2, 3], [1, 1, 0], [0, 5, 1]])\n",
        "\n",
        "# Compute eigenvalues and eigenvectors\n",
        "eigenvalues, eigenvectors = np.linalg.eig(A)\n",
        "\n",
        "print(\"Eigenvalues:\")\n",
        "print(eigenvalues)\n",
        "print(\"Eigenvectors:\")\n",
        "print(eigenvectors)\n",
        "\n",
        "# Verify decomposition\n",
        "Lambda = np.diag(eigenvalues)\n",
        "V = eigenvectors\n",
        "V_inv = np.linalg.inv(V)\n",
        "\n",
        "print(\"Verification:\")\n",
        "print(np.allclose(A, V @ Lambda @ V_inv))"
      ],
      "metadata": {
        "colab": {
          "base_uri": "https://localhost:8080/"
        },
        "id": "9COrpE-cyqEO",
        "outputId": "f374228b-9642-4b4a-b212-7f8aa7388231"
      },
      "execution_count": 12,
      "outputs": [
        {
          "output_type": "stream",
          "name": "stdout",
          "text": [
            "Eigenvalues:\n",
            "[ 3.73556661+0.j         -0.36778331+1.90065608j -0.36778331-1.90065608j]\n",
            "Eigenvectors:\n",
            "[[ 0.79554273+0.j         -0.70467078+0.j         -0.70467078-0.j        ]\n",
            " [ 0.29081461+0.j          0.17577601+0.24425634j  0.17577601-0.24425634j]\n",
            " [ 0.53154364+0.j          0.20409497-0.60928316j  0.20409497+0.60928316j]]\n",
            "Verification:\n",
            "True\n"
          ]
        }
      ]
    },
    {
      "cell_type": "code",
      "source": [
        "from sklearn.decomposition import PCA\n",
        "from sklearn.preprocessing import StandardScaler\n",
        "\n",
        "# Generate random data\n",
        "np.random.seed(0)\n",
        "X = np.random.rand(100, 5)\n",
        "\n",
        "# Standardize data\n",
        "scaler = StandardScaler()\n",
        "X_scaled = scaler.fit_transform(X)\n",
        "\n",
        "# Compute PCA\n",
        "pca = PCA(n_components=2)\n",
        "X_pca = pca.fit_transform(X_scaled)\n",
        "\n",
        "print(\"Principal Components:\")\n",
        "print(pca.components_)\n",
        "print(\"Explained Variance:\")\n",
        "print(pca.explained_variance_ratio_)\n",
        "\n",
        "# Verify PCA as eigen decomposition\n",
        "cov_matrix = np.cov(X_scaled.T)\n",
        "eigenvalues, eigenvectors = np.linalg.eig(cov_matrix)\n",
        "\n",
        "print(\"Eigenvalues:\")\n",
        "print(eigenvalues)\n",
        "print(\"Eigenvectors:\")\n",
        "print(eigenvectors)"
      ],
      "metadata": {
        "colab": {
          "base_uri": "https://localhost:8080/"
        },
        "id": "VkkH7hTX06CI",
        "outputId": "52014f84-b7a4-4db5-dfe0-24ea05856d34"
      },
      "execution_count": 16,
      "outputs": [
        {
          "output_type": "stream",
          "name": "stdout",
          "text": [
            "Principal Components:\n",
            "[[ 0.43148284  0.33237147  0.60500916  0.37927282  0.43984976]\n",
            " [-0.52149718  0.60864042 -0.3434176   0.47624435  0.11337196]]\n",
            "Explained Variance:\n",
            "[0.26386183 0.22838409]\n",
            "Eigenvalues:\n",
            "[1.33263551 1.15345502 0.9814777  0.74630293 0.83663389]\n",
            "Eigenvectors:\n",
            "[[-0.43148284  0.52149718 -0.41135988  0.57194997 -0.21335309]\n",
            " [-0.33237147 -0.60864042 -0.09849391 -0.03258788 -0.71296776]\n",
            " [-0.60500916  0.3434176   0.06988788 -0.71484434  0.0118963 ]\n",
            " [-0.37927282 -0.47624435 -0.45936655  0.05801539  0.64417392]\n",
            " [-0.43984976 -0.11337196  0.7779332   0.39679094  0.17622678]]\n"
          ]
        }
      ]
    },
    {
      "cell_type": "code",
      "source": [],
      "metadata": {
        "id": "KPmuLAIT1mAL"
      },
      "execution_count": null,
      "outputs": []
    }
  ]
}